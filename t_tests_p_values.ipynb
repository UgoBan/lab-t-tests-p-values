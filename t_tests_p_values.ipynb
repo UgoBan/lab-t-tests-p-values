{
 "cells": [
  {
   "cell_type": "markdown",
   "id": "18977ab3",
   "metadata": {},
   "source": [
    "# t-tests pvalues"
   ]
  },
  {
   "cell_type": "markdown",
   "id": "e73fba0d",
   "metadata": {},
   "source": [
    "One tailed t-test "
   ]
  },
  {
   "cell_type": "code",
   "execution_count": 1,
   "id": "1eb95d3b",
   "metadata": {},
   "outputs": [],
   "source": [
    "import pandas as pd\n",
    "import numpy as np\n",
    "from scipy.stats import ttest_ind"
   ]
  },
  {
   "cell_type": "code",
   "execution_count": 23,
   "id": "98bafbe6",
   "metadata": {},
   "outputs": [],
   "source": [
    "machine = pd.read_csv('files_for_lab/machine_new.txt', sep='\\t')"
   ]
  },
  {
   "cell_type": "code",
   "execution_count": 30,
   "id": "5ed6c4fe",
   "metadata": {},
   "outputs": [
    {
     "data": {
      "text/plain": [
       "Index(['New machine', '    Old machine'], dtype='object')"
      ]
     },
     "execution_count": 30,
     "metadata": {},
     "output_type": "execute_result"
    }
   ],
   "source": [
    "machine.columns"
   ]
  },
  {
   "cell_type": "code",
   "execution_count": 32,
   "id": "0ae5390f",
   "metadata": {},
   "outputs": [],
   "source": [
    "machine = machine.rename(columns={'New machine': 'new_machine', '    Old machine': 'old_machine'})"
   ]
  },
  {
   "cell_type": "code",
   "execution_count": 33,
   "id": "521b6da4",
   "metadata": {},
   "outputs": [
    {
     "data": {
      "text/html": [
       "<div>\n",
       "<style scoped>\n",
       "    .dataframe tbody tr th:only-of-type {\n",
       "        vertical-align: middle;\n",
       "    }\n",
       "\n",
       "    .dataframe tbody tr th {\n",
       "        vertical-align: top;\n",
       "    }\n",
       "\n",
       "    .dataframe thead th {\n",
       "        text-align: right;\n",
       "    }\n",
       "</style>\n",
       "<table border=\"1\" class=\"dataframe\">\n",
       "  <thead>\n",
       "    <tr style=\"text-align: right;\">\n",
       "      <th></th>\n",
       "      <th>new_machine</th>\n",
       "      <th>old_machine</th>\n",
       "    </tr>\n",
       "  </thead>\n",
       "  <tbody>\n",
       "    <tr>\n",
       "      <th>0</th>\n",
       "      <td>42.1</td>\n",
       "      <td>42.7</td>\n",
       "    </tr>\n",
       "    <tr>\n",
       "      <th>1</th>\n",
       "      <td>41.0</td>\n",
       "      <td>43.6</td>\n",
       "    </tr>\n",
       "    <tr>\n",
       "      <th>2</th>\n",
       "      <td>41.3</td>\n",
       "      <td>43.8</td>\n",
       "    </tr>\n",
       "    <tr>\n",
       "      <th>3</th>\n",
       "      <td>41.8</td>\n",
       "      <td>43.3</td>\n",
       "    </tr>\n",
       "    <tr>\n",
       "      <th>4</th>\n",
       "      <td>42.4</td>\n",
       "      <td>42.5</td>\n",
       "    </tr>\n",
       "    <tr>\n",
       "      <th>5</th>\n",
       "      <td>42.8</td>\n",
       "      <td>43.5</td>\n",
       "    </tr>\n",
       "    <tr>\n",
       "      <th>6</th>\n",
       "      <td>43.2</td>\n",
       "      <td>43.1</td>\n",
       "    </tr>\n",
       "    <tr>\n",
       "      <th>7</th>\n",
       "      <td>42.3</td>\n",
       "      <td>41.7</td>\n",
       "    </tr>\n",
       "    <tr>\n",
       "      <th>8</th>\n",
       "      <td>41.8</td>\n",
       "      <td>44.0</td>\n",
       "    </tr>\n",
       "    <tr>\n",
       "      <th>9</th>\n",
       "      <td>42.7</td>\n",
       "      <td>44.1</td>\n",
       "    </tr>\n",
       "  </tbody>\n",
       "</table>\n",
       "</div>"
      ],
      "text/plain": [
       "   new_machine  old_machine\n",
       "0         42.1         42.7\n",
       "1         41.0         43.6\n",
       "2         41.3         43.8\n",
       "3         41.8         43.3\n",
       "4         42.4         42.5\n",
       "5         42.8         43.5\n",
       "6         43.2         43.1\n",
       "7         42.3         41.7\n",
       "8         41.8         44.0\n",
       "9         42.7         44.1"
      ]
     },
     "execution_count": 33,
     "metadata": {},
     "output_type": "execute_result"
    }
   ],
   "source": [
    "machine"
   ]
  },
  {
   "cell_type": "code",
   "execution_count": 34,
   "id": "3a3b9923",
   "metadata": {},
   "outputs": [
    {
     "name": "stdout",
     "output_type": "stream",
     "text": [
      "The data provides sufficient evidence to show that the new machine packs cartons faster on average than the old machine.\n"
     ]
    }
   ],
   "source": [
    "t_stat, p_val = ttest_ind(machine['new_machine'], machine['old_machine'], alternative='less')\n",
    "\n",
    "if p_val < 0.05:\n",
    "    print(\"The data provides sufficient evidence to show that the new machine packs cartons faster on average than the old machine.\")\n",
    "else:\n",
    "    print(\"The data does not provide sufficient evidence to show that the new machine packs cartons faster on average than the old machine.\")"
   ]
  },
  {
   "cell_type": "markdown",
   "id": "0fdea299",
   "metadata": {},
   "source": [
    "Matched Pairs Test"
   ]
  },
  {
   "cell_type": "code",
   "execution_count": 17,
   "id": "e16fd9e7",
   "metadata": {},
   "outputs": [],
   "source": [
    "from scipy.stats import ttest_rel"
   ]
  },
  {
   "cell_type": "code",
   "execution_count": 18,
   "id": "3390f3b4",
   "metadata": {},
   "outputs": [],
   "source": [
    "pokemon = pd.read_csv('files_for_lab/pokemon.csv')"
   ]
  },
  {
   "cell_type": "code",
   "execution_count": 19,
   "id": "66117108",
   "metadata": {},
   "outputs": [],
   "source": [
    "# perform the test\n",
    "t_statistic, p_value = ttest_rel(pokemon['Attack'], pokemon['Defense'])"
   ]
  },
  {
   "cell_type": "code",
   "execution_count": 21,
   "id": "c1c96ed5",
   "metadata": {},
   "outputs": [
    {
     "name": "stdout",
     "output_type": "stream",
     "text": [
      "t-statistic:  4.325566393330478\n",
      "p-value:  1.7140303479358558e-05\n"
     ]
    }
   ],
   "source": [
    "# the results\n",
    "print(\"t-statistic: \", t_statistic)\n",
    "print(\"p-value: \", p_value)"
   ]
  },
  {
   "cell_type": "markdown",
   "id": "0d52d9f4",
   "metadata": {},
   "source": [
    "The t-statistic is 4.33, and the p-value is very small (1.71e-05), which suggests strong evidence against the null hypothesis. Therefore, we can reject the null hypothesis and conclude that there is a significant difference between attack and defense scores of the Pokemon."
   ]
  }
 ],
 "metadata": {
  "kernelspec": {
   "display_name": "Python 3 (ipykernel)",
   "language": "python",
   "name": "python3"
  },
  "language_info": {
   "codemirror_mode": {
    "name": "ipython",
    "version": 3
   },
   "file_extension": ".py",
   "mimetype": "text/x-python",
   "name": "python",
   "nbconvert_exporter": "python",
   "pygments_lexer": "ipython3",
   "version": "3.10.9"
  }
 },
 "nbformat": 4,
 "nbformat_minor": 5
}
